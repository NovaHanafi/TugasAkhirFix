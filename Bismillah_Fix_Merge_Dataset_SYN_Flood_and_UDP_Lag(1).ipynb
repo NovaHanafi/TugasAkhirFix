{
  "nbformat": 4,
  "nbformat_minor": 0,
  "metadata": {
    "colab": {
      "provenance": []
    },
    "kernelspec": {
      "name": "python3",
      "display_name": "Python 3"
    },
    "language_info": {
      "name": "python"
    }
  },
  "cells": [
    {
      "cell_type": "code",
      "execution_count": null,
      "metadata": {
        "colab": {
          "base_uri": "https://localhost:8080/"
        },
        "id": "OBv3lqOR6rnE",
        "outputId": "848633b6-0eb4-424a-99d7-4f26bd203bbf"
      },
      "outputs": [
        {
          "output_type": "stream",
          "name": "stdout",
          "text": [
            "Mounted at /content/drive\n"
          ]
        }
      ],
      "source": [
        " from google.colab import drive\n",
        "drive.mount('/content/drive')"
      ]
    },
    {
      "cell_type": "code",
      "source": [
        "import pandas as pd\n",
        "df1 = pd.read_csv(\"drive/MyDrive/Dataset/DataProcess/SynDataProcessingWithChiSquare1.csv\")\n",
        "df2 = pd.read_csv(\"drive/MyDrive/Dataset/DataProcess/UDPLagDataProcessingWithChiSquare1.csv\")\n",
        "datas  = [df1,df2]\n",
        "result = pd.concat(datas)\n",
        "result.to_csv(\"drive/MyDrive/Dataset/DataProcess/SYNandUDPLagDataProcessing.csv\")"
      ],
      "metadata": {
        "id": "WvTjgXGtB9j2",
        "colab": {
          "base_uri": "https://localhost:8080/"
        },
        "outputId": "4b5f277b-7d82-4666-8caa-aa4197cec2da"
      },
      "execution_count": null,
      "outputs": [
        {
          "output_type": "stream",
          "name": "stderr",
          "text": [
            "/usr/local/lib/python3.8/dist-packages/IPython/core/interactiveshell.py:3326: DtypeWarning: Columns (88) have mixed types.Specify dtype option on import or set low_memory=False.\n",
            "  exec(code_obj, self.user_global_ns, self.user_ns)\n"
          ]
        }
      ]
    },
    {
      "cell_type": "code",
      "source": [
        "import pandas as pd\n",
        "merge = pd.read_csv(\"drive/MyDrive/Dataset/DataProcess/SYNandUDPLagDataProcessing.csv\")"
      ],
      "metadata": {
        "id": "gjp4hizKicFJ",
        "colab": {
          "base_uri": "https://localhost:8080/"
        },
        "outputId": "e62c67a6-6572-4dce-a65b-74068f5b6009"
      },
      "execution_count": null,
      "outputs": [
        {
          "output_type": "stream",
          "name": "stderr",
          "text": [
            "/usr/local/lib/python3.8/dist-packages/IPython/core/interactiveshell.py:3326: DtypeWarning: Columns (89) have mixed types.Specify dtype option on import or set low_memory=False.\n",
            "  exec(code_obj, self.user_global_ns, self.user_ns)\n"
          ]
        }
      ]
    },
    {
      "cell_type": "code",
      "source": [
        "print(\"UDP Lag= \",merge.shape)\n",
        "print(\"min =\", min(merge.shape))"
      ],
      "metadata": {
        "colab": {
          "base_uri": "https://localhost:8080/"
        },
        "id": "4c7qPCFtifp-",
        "outputId": "b64971b0-db7b-4f33-97ed-f02a1547f2cc"
      },
      "execution_count": null,
      "outputs": [
        {
          "output_type": "stream",
          "name": "stdout",
          "text": [
            "UDP Lag=  (383388, 92)\n",
            "min = 92\n"
          ]
        }
      ]
    },
    {
      "cell_type": "code",
      "source": [
        "print(\"BENIGN= \",merge.shape)\n",
        "print(\"min =\", min(merge.shape))"
      ],
      "metadata": {
        "colab": {
          "base_uri": "https://localhost:8080/"
        },
        "id": "4sJk543MjETX",
        "outputId": "f983055f-b448-4a07-88e8-e6774962859d"
      },
      "execution_count": null,
      "outputs": [
        {
          "output_type": "stream",
          "name": "stdout",
          "text": [
            "BENIGN=  (383388, 92)\n",
            "min = 92\n"
          ]
        }
      ]
    },
    {
      "cell_type": "code",
      "source": [
        "print(\"Syn= \",merge.shape)\n",
        "print(\"min =\", min(merge.shape))"
      ],
      "metadata": {
        "colab": {
          "base_uri": "https://localhost:8080/"
        },
        "id": "nmUdYON0jNEo",
        "outputId": "69fe9ca7-1345-49e9-f76f-1ad5a70274e2"
      },
      "execution_count": null,
      "outputs": [
        {
          "output_type": "stream",
          "name": "stdout",
          "text": [
            "Syn=  (383388, 92)\n",
            "min = 92\n"
          ]
        }
      ]
    },
    {
      "cell_type": "code",
      "source": [
        "print(\"UDP= \",merge.shape)\n",
        "print(\"min =\", min(merge.shape))"
      ],
      "metadata": {
        "colab": {
          "base_uri": "https://localhost:8080/"
        },
        "id": "_sC9uWOPjcfz",
        "outputId": "c4a131b6-147d-48c7-8e15-11a3999980da"
      },
      "execution_count": null,
      "outputs": [
        {
          "output_type": "stream",
          "name": "stdout",
          "text": [
            "UDP=  (383388, 92)\n",
            "min = 92\n"
          ]
        }
      ]
    }
  ]
}